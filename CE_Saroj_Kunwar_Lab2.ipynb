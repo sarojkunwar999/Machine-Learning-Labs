{
 "cells": [
  {
   "cell_type": "code",
   "execution_count": 303,
   "metadata": {},
   "outputs": [],
   "source": [
    "from matplotlib import pyplot as plt\n",
    "import numpy as np"
   ]
  },
  {
   "cell_type": "code",
   "execution_count": 304,
   "metadata": {},
   "outputs": [],
   "source": [
    "from sklearn.datasets import load_iris\n",
    "data = load_iris()\n",
    "\n",
    "features =  data.data\n",
    "feature_names = data.feature_names\n",
    "target = data.target\n",
    "target_names = data.target_names"
   ]
  },
  {
   "cell_type": "code",
   "execution_count": 305,
   "metadata": {},
   "outputs": [
    {
     "data": {
      "image/png": "[encoded data removed]",
      "text/plain": [
       "<Figure size 432x288 with 1 Axes>"
      ]
     },
     "metadata": {},
     "output_type": "display_data"
    }
   ],
   "source": [
    "for t in range(3):\n",
    "    if t == 0:\n",
    "        c = 'r'\n",
    "        marker = '>'\n",
    "    elif t == 1:\n",
    "        c = 'g'\n",
    "        marker = 'o'\n",
    "    elif t == 2:\n",
    "        c = 'b'\n",
    "        marker = 'x'\n",
    "    plt.scatter(features[target == t,0],features[target == t,1],marker=marker,c=c)"
   ]
  },
  {
   "cell_type": "code",
   "execution_count": 306,
   "metadata": {},
   "outputs": [
    {
     "name": "stdout",
     "output_type": "stream",
     "text": [
      "Maximum of setosa: 1.9.\n"
     ]
    }
   ],
   "source": [
    "labels = target_names[target]\n",
    "plength = features[:,2]\n",
    "is_setosa = (labels == 'setosa')\n",
    "max_setosa = plength[is_setosa].max()\n",
    "min_non_setosa = plength[~is_setosa].min()\n",
    "print('Maximum of setosa: {0}.'.format(max_setosa))"
   ]
  },
  {
   "cell_type": "code",
   "execution_count": 307,
   "metadata": {},
   "outputs": [
    {
     "name": "stdout",
     "output_type": "stream",
     "text": [
      "Minimum of  others: 3.0.\n"
     ]
    }
   ],
   "source": [
    "print('Minimum of  others: {0}.'.format(min_non_setosa))"
   ]
  },
  {
   "cell_type": "code",
   "execution_count": 308,
   "metadata": {},
   "outputs": [],
   "source": [
    "best_acc = -1.0\n",
    "features = features[~is_setosa]\n",
    "labels = labels[~is_setosa]\n",
    "\n",
    "is_virginica = (labels == 'virginica')\n",
    "for fi in range(features.shape[1]):\n",
    "    thresh = features[:,fi]\n",
    "    for t in thresh:\n",
    "        feature_i = features[:,fi]\n",
    "        pred = (feature_i >t)\n",
    "        acc = (pred == is_virginica).mean()\n",
    "        rev_acc = (pred == ~is_virginica).mean()\n",
    "        if rev_acc > acc:\n",
    "            reverse = True\n",
    "            acc = rev_acc\n",
    "        else:\n",
    "            reverse = False\n",
    "        if acc > best_acc:\n",
    "            best_acc = acc\n",
    "            best_fi = fi\n",
    "            best_t = t\n",
    "            best_reverse = reverse\n"
   ]
  },
  {
   "cell_type": "code",
   "execution_count": 309,
   "metadata": {},
   "outputs": [],
   "source": [
    "def fit_model(features, labels):\n",
    "\n",
    "    best_acc = -1.0\n",
    "    # Loop over all the features:\n",
    "    \n",
    "    for fi in range(features.shape[1]):\n",
    "        thresh = features[:, fi].copy()\n",
    "        # test all feature values in order:\n",
    "        thresh.sort()\n",
    "        \n",
    "        for t in thresh:\n",
    "            pred = (features[:, fi] > t)\n",
    "            # Measure the accuracy of this \n",
    "            acc = (pred == labels).mean()\n",
    "            rev_acc = (pred == ~labels).mean()\n",
    "            \n",
    "            if rev_acc > acc:\n",
    "                acc = rev_acc\n",
    "                reverse = True\n",
    "            else:\n",
    "                reverse = False\n",
    "            if acc > best_acc:\n",
    "                best_acc = acc\n",
    "                best_fi = fi\n",
    "                best_t = t\n",
    "                best_reverse = reverse\n",
    "                \n",
    "    return best_t, best_fi, best_reverse"
   ]
  },
  {
   "cell_type": "code",
   "execution_count": 310,
   "metadata": {},
   "outputs": [],
   "source": [
    "def is_virginica_test(fi, t, reverse, example):\n",
    "    test = example[fi] > t\n",
    "    if reverse:\n",
    "        test = not test\n",
    "    return test"
   ]
  },
  {
   "cell_type": "code",
   "execution_count": 311,
   "metadata": {},
   "outputs": [],
   "source": [
    "\n",
    "def predict(model, features):\n",
    "\n",
    "    # A model is a pair as returned by fit_model\n",
    "    t, fi, reverse = model\n",
    "    if reverse:\n",
    "        return features[:, fi] <= t\n",
    "    else:\n",
    "        return features[:, fi] > t"
   ]
  },
  {
   "cell_type": "code",
   "execution_count": 312,
   "metadata": {},
   "outputs": [
    {
     "name": "stdout",
     "output_type": "stream",
     "text": [
      "Accuracy: 87.0%\n"
     ]
    }
   ],
   "source": [
    "\n",
    "correct = 0.0\n",
    "for ei in range(len(features)):\n",
    "    training = np.ones(len(features), bool)\n",
    "    training[ei] = False\n",
    "    testing = ~training\n",
    "    model = fit_model(features[training], is_virginica[training])\n",
    "    predictions = predict(model, features[testing])\n",
    "    correct += np.sum(predictions == is_virginica[testing])\n",
    "   \n",
    "acc = correct/float(len(features))\n",
    "print('Accuracy: {0:.1%}'.format(acc))"
   ]
  },
  {
   "cell_type": "code",
   "execution_count": 313,
   "metadata": {},
   "outputs": [
    {
     "name": "stdout",
     "output_type": "stream",
     "text": [
      "Mean accuracy: 94.0%\n"
     ]
    }
   ],
   "source": [
    "from sklearn.neighbors import KNeighborsClassifier\n",
    "classifier = KNeighborsClassifier(n_neighbors=1)\n",
    "from sklearn.cross_validation import KFold\n",
    "\n",
    "kf = KFold(len(features), n_folds=5, shuffle=True)\n",
    "means = []\n",
    "for training,testing in kf:\n",
    "\n",
    "    classifier.fit(features[training], labels[training])\n",
    "    prediction = classifier.predict(features[testing])\n",
    "\n",
    "    curmean = np.mean(prediction == labels[testing])\n",
    "    means.append(curmean)\n",
    "print(\"Mean accuracy: {:.1%}\".format(np.mean(means)))"
   ]
  },
  {
   "cell_type": "code",
   "execution_count": 314,
   "metadata": {},
   "outputs": [],
   "source": [
    "from sklearn.pipeline import Pipeline\n",
    "from sklearn.preprocessing import StandardScaler\n",
    "\n",
    "classifier = KNeighborsClassifier(n_neighbors=1)\n",
    "classifier = Pipeline([('norm', StandardScaler()),('knn', classifier)])"
   ]
  }
 ],
 "metadata": {
  "kernelspec": {
   "display_name": "Python 3",
   "language": "python",
   "name": "python3"
  },
  "language_info": {
   "codemirror_mode": {
    "name": "ipython",
    "version": 3
   },
   "file_extension": ".py",
   "mimetype": "text/x-python",
   "name": "python",
   "nbconvert_exporter": "python",
   "pygments_lexer": "ipython3",
   "version": "3.6.5"
  }
 },
 "nbformat": 4,
 "nbformat_minor": 2
}
